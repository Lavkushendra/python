{
 "cells": [
  {
   "cell_type": "code",
   "execution_count": 6,
   "metadata": {
    "collapsed": false
   },
   "outputs": [
    {
     "data": {
      "text/plain": [
       "'Numpy basic core object is ndarray\\n   Features of nd array are:\\n   1.Multidimensional array i.e 3d,4d ,7d etc\\n   2.Homogeneous Collection Of Values\\n   3.Fast and Efficient as its dependent on c and c++ directly\\n'"
      ]
     },
     "execution_count": 6,
     "metadata": {},
     "output_type": "execute_result"
    }
   ],
   "source": [
    "'''Numpy basic core object is ndarray\n",
    "   Features of nd array are:\n",
    "   1.Multidimensional array i.e 3d,4d ,7d etc\n",
    "   2.Homogeneous Collection Of Values\n",
    "   3.Fast and Efficient as its dependent on c and c++ directly\n",
    "'''"
   ]
  },
  {
   "cell_type": "code",
   "execution_count": 7,
   "metadata": {
    "collapsed": false
   },
   "outputs": [
    {
     "name": "stdout",
     "output_type": "stream",
     "text": [
      "[1 2 3 4]\n",
      "<class 'numpy.ndarray'>\n"
     ]
    }
   ],
   "source": [
    "import numpy as np\n",
    "import matplotlib.pyplot as plt\n",
    "lst = [1,2,3,4]\n",
    "np_array = np.array(lst)\n",
    "print(np_array)\n",
    "print(type(np_array))"
   ]
  },
  {
   "cell_type": "code",
   "execution_count": 8,
   "metadata": {
    "collapsed": false
   },
   "outputs": [
    {
     "data": {
      "text/plain": [
       "array([[1, 2],\n",
       "       [3, 4],\n",
       "       [5, 6]])"
      ]
     },
     "execution_count": 8,
     "metadata": {},
     "output_type": "execute_result"
    }
   ],
   "source": [
    "#Matrices\n",
    "import numpy as np\n",
    "import matplotlib.pyplot as plt\n",
    "np.array(np.mat('1 2; 3 4; 5 6'))"
   ]
  },
  {
   "cell_type": "code",
   "execution_count": 9,
   "metadata": {
    "collapsed": false
   },
   "outputs": [
    {
     "name": "stdout",
     "output_type": "stream",
     "text": [
      "[1. 2. 3.]\n",
      "[1. 2. 3.]\n",
      "[('ram', 22, 1000.) ('shyam', 29, 8277.)]\n",
      "Row1: ('ram', 22, 1000.)\n"
     ]
    }
   ],
   "source": [
    "#TypeCasting\n",
    "import numpy as np\n",
    "import matplotlib.pyplot as plt\n",
    "a=np.array([1,2,3.0])\n",
    "print(a) # as we can see all gets converted to float,there is a priority list based on which conversion happens to higher type\n",
    "'''Type precendence\n",
    "   1.Bool\n",
    "   2.Int\n",
    "   3.Float\n",
    "   4.String'''\n",
    "#Explicit conversion\n",
    "array_with_type=np.array([1,2,3], dtype=float)\n",
    "print(array_with_type)\n",
    "#We can also define datatype for each column,name is with 11 characters,salry with float having 4 decimal numbers\n",
    "z = np.array([('ram',22,1000),('shyam',29,8277)], dtype = [('name','U11'),('age','int32'),('salary','<f4')])\n",
    "print(z)\n",
    "#Below accessing 1st row\n",
    "print('Row1: '+ str(z[0])) "
   ]
  },
  {
   "cell_type": "code",
   "execution_count": 10,
   "metadata": {
    "collapsed": false
   },
   "outputs": [
    {
     "name": "stdout",
     "output_type": "stream",
     "text": [
      "[[1 5 2]\n",
      " [2 5 6]]\n",
      "Shape of array is:  (2, 3)\n",
      "Number of dimension of 2D array is:  2\n",
      "Size of 2D array is:  6\n"
     ]
    }
   ],
   "source": [
    "#Dimensionality\n",
    "import numpy as np\n",
    "import matplotlib.pyplot as plt\n",
    "#2D Below\n",
    "two_dim=np.array([(1,5,2),(2,5,6)])\n",
    "print(two_dim)\n",
    "#Shape of array\n",
    "print(\"Shape of array is: \",two_dim.shape)\n",
    "print(\"Number of dimension of 2D array is: \",two_dim.ndim)\n",
    "print(\"Size of 2D array is: \",two_dim.size) #size means multiplication of shape values"
   ]
  },
  {
   "cell_type": "code",
   "execution_count": 11,
   "metadata": {
    "collapsed": false
   },
   "outputs": [
    {
     "name": "stdout",
     "output_type": "stream",
     "text": [
      "[[[ 5.3 10.  12. ]\n",
      "  [ 6.6  3.9  1.1]\n",
      "  [ 7.7  3.3  2.8]]\n",
      "\n",
      " [[ 6.3 11.   1. ]\n",
      "  [ 9.   5.9  2.1]\n",
      "  [ 5.7  7.3  9.8]]]\n",
      "[[[1. 1. 1. 1.]\n",
      "  [1. 1. 1. 1.]\n",
      "  [1. 1. 1. 1.]]\n",
      "\n",
      " [[1. 1. 1. 1.]\n",
      "  [1. 1. 1. 1.]\n",
      "  [1. 1. 1. 1.]]]\n"
     ]
    }
   ],
   "source": [
    "import numpy as np\n",
    "import matplotlib.pyplot as plt\n",
    "#3D Below\n",
    "three_dim =np.array([[[5.3,10,12],[6.6,3.9,1.1],[7.7,3.3,2.8]],[[6.3,11,1],[9,5.9,2.1],[5.7,7.3,9.8]]])\n",
    "print(three_dim)\n",
    "#three dimensional ones\n",
    "three_dim_test=np.ones([2,3,4])\n",
    "print(three_dim_test)\n",
    "#note dimention is measured as z then y(vertical) then x(horizontal)"
   ]
  },
  {
   "cell_type": "code",
   "execution_count": 12,
   "metadata": {
    "collapsed": false
   },
   "outputs": [
    {
     "name": "stdout",
     "output_type": "stream",
     "text": [
      "[[1 2]\n",
      " [3 4]]\n",
      "[1 4]\n"
     ]
    }
   ],
   "source": [
    "#Extracting diagonal\n",
    "diagtest=np.array([[1,2],[3,4]])\n",
    "print(diagtest)\n",
    "print(np.diag(diagtest))"
   ]
  },
  {
   "cell_type": "code",
   "execution_count": 13,
   "metadata": {
    "collapsed": false
   },
   "outputs": [
    {
     "name": "stdout",
     "output_type": "stream",
     "text": [
      "[10 15 20 25]\n",
      "[  1.  12.  23.  34.  45.  56.  67.  78.  89. 100.]\n"
     ]
    },
    {
     "data": {
      "image/png": "[encoded data removed]",
      "text/plain": [
       "<matplotlib.figure.Figure at 0x7f8d08769ba8>"
      ]
     },
     "metadata": {},
     "output_type": "display_data"
    }
   ],
   "source": [
    "#arange is same as range only that it will give numpy array as output\n",
    "print(np.arange(10,30,5))\n",
    "#linspace means here we need 10 number range from 1 to 100 this with gap as 10\n",
    "lin_space=np.linspace(1,100,10)\n",
    "print(lin_space)\n",
    "plt.plot(lin_space)\n",
    "plt.show()"
   ]
  },
  {
   "cell_type": "code",
   "execution_count": 14,
   "metadata": {
    "collapsed": false
   },
   "outputs": [
    {
     "name": "stdout",
     "output_type": "stream",
     "text": [
      "[0 1 2 3 4 5 6 7 8]\n"
     ]
    }
   ],
   "source": [
    "k=np.arange(9)\n",
    "print(k)"
   ]
  },
  {
   "cell_type": "code",
   "execution_count": 15,
   "metadata": {
    "collapsed": false
   },
   "outputs": [
    {
     "data": {
      "text/plain": [
       "array([[[ 0,  1,  2],\n",
       "        [ 3,  4,  5]],\n",
       "\n",
       "       [[ 6,  7,  8],\n",
       "        [ 9, 10, 11]]])"
      ]
     },
     "execution_count": 15,
     "metadata": {},
     "output_type": "execute_result"
    }
   ],
   "source": [
    "np.arange(12).reshape(2,2,3)"
   ]
  },
  {
   "cell_type": "code",
   "execution_count": 16,
   "metadata": {
    "collapsed": false
   },
   "outputs": [
    {
     "data": {
      "image/png": "[encoded data removed]",
      "text/plain": [
       "<matplotlib.figure.Figure at 0x7f8d06255978>"
      ]
     },
     "metadata": {},
     "output_type": "display_data"
    }
   ],
   "source": [
    "#Plotting random variable normal distribution\n",
    "plt.hist(np.random.randn(1000)) #randn means normal distribution\n",
    "plt.show()"
   ]
  },
  {
   "cell_type": "code",
   "execution_count": 17,
   "metadata": {
    "collapsed": false
   },
   "outputs": [
    {
     "name": "stdout",
     "output_type": "stream",
     "text": [
      "20 Sample of dice are :  [2 4 2 1 5 1 4 5 5 5 1 3 1 1 5 5 5 1 1 1]\n"
     ]
    }
   ],
   "source": [
    "print(\"20 Sample of dice are : \",np.random.randint(1,6,20))"
   ]
  },
  {
   "cell_type": "code",
   "execution_count": 18,
   "metadata": {
    "collapsed": false
   },
   "outputs": [
    {
     "name": "stdout",
     "output_type": "stream",
     "text": [
      "[[2 3]\n",
      " [3 4]\n",
      " [3 4]]\n",
      "[[2 2]\n",
      " [3 4]]\n"
     ]
    }
   ],
   "source": [
    "C= np.array([[2,3],[3,4],[3,4]])\n",
    "D= np.array([[2,2],[3,4]])\n",
    "print(C)\n",
    "print(D)"
   ]
  },
  {
   "cell_type": "code",
   "execution_count": 19,
   "metadata": {
    "collapsed": false
   },
   "outputs": [
    {
     "data": {
      "text/plain": [
       "array([[13, 16],\n",
       "       [18, 22],\n",
       "       [18, 22]])"
      ]
     },
     "execution_count": 19,
     "metadata": {},
     "output_type": "execute_result"
    }
   ],
   "source": [
    "'''C is 3 by 2 and D is 2 by 2 (here this 2) so product is 3 by 2(here this 2) ,as these 2 are similar thats why multiply is working else fails''' \n",
    "C.dot(D)"
   ]
  },
  {
   "cell_type": "code",
   "execution_count": 20,
   "metadata": {
    "collapsed": false
   },
   "outputs": [
    {
     "name": "stdout",
     "output_type": "stream",
     "text": [
      "[[3 4 5]\n",
      " [5 4 3]\n",
      " [4 5 3]]\n"
     ]
    }
   ],
   "source": [
    "'''axis ,0 is vertical i.e 1D,2D means horizontal and 3D means other dimention'''\n",
    "a = np.array([[3,4,5],[5,4,3],[4,5,3]])\n",
    "print(a)"
   ]
  },
  {
   "cell_type": "code",
   "execution_count": 21,
   "metadata": {
    "collapsed": false
   },
   "outputs": [
    {
     "data": {
      "text/plain": [
       "array([12, 13, 11])"
      ]
     },
     "execution_count": 21,
     "metadata": {},
     "output_type": "execute_result"
    }
   ],
   "source": [
    "a.sum(axis=0) # sum of columns ,0 is dimension"
   ]
  },
  {
   "cell_type": "code",
   "execution_count": 22,
   "metadata": {
    "collapsed": false
   },
   "outputs": [
    {
     "data": {
      "text/plain": [
       "array([12, 12, 12])"
      ]
     },
     "execution_count": 22,
     "metadata": {},
     "output_type": "execute_result"
    }
   ],
   "source": [
    "a.sum(axis=1) # sum of rows ,1 is dimension"
   ]
  },
  {
   "cell_type": "code",
   "execution_count": 23,
   "metadata": {
    "collapsed": false
   },
   "outputs": [
    {
     "name": "stdout",
     "output_type": "stream",
     "text": [
      "[[ 0  1  2  3]\n",
      " [ 4  5  6  7]\n",
      " [ 8  9 10 11]\n",
      " [12 13 14 15]\n",
      " [16 17 18 19]]\n",
      "(5, 4)\n"
     ]
    }
   ],
   "source": [
    "#Multidimension\n",
    "a = np.arange(20).reshape(5,4)\n",
    "print(a)\n",
    "print(a.shape)"
   ]
  },
  {
   "cell_type": "code",
   "execution_count": 24,
   "metadata": {
    "collapsed": false
   },
   "outputs": [
    {
     "data": {
      "text/plain": [
       "array([[ 9, 10],\n",
       "       [13, 14]])"
      ]
     },
     "execution_count": 24,
     "metadata": {},
     "output_type": "execute_result"
    }
   ],
   "source": [
    "a[2:4,1:3] #note here we do 2:4 but 4 is excluded similarly 1:3 but 3 is excluded"
   ]
  },
  {
   "cell_type": "code",
   "execution_count": 25,
   "metadata": {
    "collapsed": false
   },
   "outputs": [
    {
     "ename": "SyntaxError",
     "evalue": "invalid syntax (<ipython-input-25-3eae3eed04db>, line 1)",
     "output_type": "error",
     "traceback": [
      "\u001b[0;36m  File \u001b[0;32m\"<ipython-input-25-3eae3eed04db>\"\u001b[0;36m, line \u001b[0;32m1\u001b[0m\n\u001b[0;31m    a[:,1] i.e all rows from 2nd column\u001b[0m\n\u001b[0m           ^\u001b[0m\n\u001b[0;31mSyntaxError\u001b[0m\u001b[0;31m:\u001b[0m invalid syntax\n"
     ]
    }
   ],
   "source": [
    "a[:,1] i.e all rows from 2nd column"
   ]
  },
  {
   "cell_type": "code",
   "execution_count": 26,
   "metadata": {
    "collapsed": false
   },
   "outputs": [
    {
     "name": "stdout",
     "output_type": "stream",
     "text": [
      "[[[ 0  1  2  3  4]\n",
      "  [ 5  6  7  8  9]\n",
      "  [10 11 12 13 14]]\n",
      "\n",
      " [[15 16 17 18 19]\n",
      "  [20 21 22 23 24]\n",
      "  [25 26 27 28 29]]\n",
      "\n",
      " [[30 31 32 33 34]\n",
      "  [35 36 37 38 39]\n",
      "  [40 41 42 43 44]]]\n"
     ]
    }
   ],
   "source": [
    "s = np.arange(45).reshape(3,3,5)\n",
    "print(s)"
   ]
  },
  {
   "cell_type": "code",
   "execution_count": 27,
   "metadata": {
    "collapsed": false
   },
   "outputs": [
    {
     "data": {
      "text/plain": [
       "array([[21, 22],\n",
       "       [26, 27]])"
      ]
     },
     "execution_count": 27,
     "metadata": {},
     "output_type": "execute_result"
    }
   ],
   "source": [
    "s[1,1:3,1:3]"
   ]
  },
  {
   "cell_type": "code",
   "execution_count": 28,
   "metadata": {
    "collapsed": false
   },
   "outputs": [
    {
     "name": "stdout",
     "output_type": "stream",
     "text": [
      "**********\n",
      "[0 1 2 3 4]\n",
      "----------\n",
      "[5 6 7 8 9]\n",
      "----------\n",
      "[10 11 12 13 14]\n",
      "----------\n",
      "**********\n",
      "[15 16 17 18 19]\n",
      "----------\n",
      "[20 21 22 23 24]\n",
      "----------\n",
      "[25 26 27 28 29]\n",
      "----------\n",
      "**********\n",
      "[30 31 32 33 34]\n",
      "----------\n",
      "[35 36 37 38 39]\n",
      "----------\n",
      "[40 41 42 43 44]\n",
      "----------\n"
     ]
    }
   ],
   "source": [
    "for axis1 in s:\n",
    "    #print(axis1) prints 2d seperated\n",
    "    print('*' * 10)\n",
    "    for axis2 in axis1: \n",
    "        print(axis2) # prints 1d\n",
    "        print('-' * 10)"
   ]
  },
  {
   "cell_type": "code",
   "execution_count": 31,
   "metadata": {
    "collapsed": false
   },
   "outputs": [
    {
     "name": "stdout",
     "output_type": "stream",
     "text": [
      "Department  0\n",
      "Employee 0\n",
      "[0 1 2 3 4]\n",
      "Employee 1\n",
      "[5 6 7 8 9]\n",
      "Employee 2\n",
      "[10 11 12 13 14]\n",
      "Department  1\n",
      "Employee 0\n",
      "[15 16 17 18 19]\n",
      "Employee 1\n",
      "[20 21 22 23 24]\n",
      "Employee 2\n",
      "[25 26 27 28 29]\n",
      "Department  2\n",
      "Employee 0\n",
      "[30 31 32 33 34]\n",
      "Employee 1\n",
      "[35 36 37 38 39]\n",
      "Employee 2\n",
      "[40 41 42 43 44]\n"
     ]
    }
   ],
   "source": [
    "for i in range(3):\n",
    "    print('Department ' , i)\n",
    "    for j in range(3):\n",
    "        print('Employee' , j)\n",
    "        print(s[i,j])  "
   ]
  },
  {
   "cell_type": "code",
   "execution_count": 32,
   "metadata": {
    "collapsed": false
   },
   "outputs": [
    {
     "data": {
      "text/plain": [
       "array([[30, 31, 32, 33, 34],\n",
       "       [35, 36, 37, 38, 39],\n",
       "       [40, 41, 42, 43, 44]])"
      ]
     },
     "execution_count": 32,
     "metadata": {},
     "output_type": "execute_result"
    }
   ],
   "source": [
    "s.max(axis=0)"
   ]
  },
  {
   "cell_type": "code",
   "execution_count": 33,
   "metadata": {
    "collapsed": false
   },
   "outputs": [
    {
     "data": {
      "text/plain": [
       "array([[10, 11, 12, 13, 14],\n",
       "       [25, 26, 27, 28, 29],\n",
       "       [40, 41, 42, 43, 44]])"
      ]
     },
     "execution_count": 33,
     "metadata": {},
     "output_type": "execute_result"
    }
   ],
   "source": [
    "s.max(axis=1)"
   ]
  },
  {
   "cell_type": "code",
   "execution_count": null,
   "metadata": {
    "collapsed": true
   },
   "outputs": [],
   "source": [
    "#Taking max from each feature\n",
    "s.max(axis=2)"
   ]
  },
  {
   "cell_type": "code",
   "execution_count": 36,
   "metadata": {
    "collapsed": false
   },
   "outputs": [
    {
     "name": "stdout",
     "output_type": "stream",
     "text": [
      "[[0 1]\n",
      " [2 3]\n",
      " [4 5]]\n",
      "[[ 6  7]\n",
      " [ 8  9]\n",
      " [10 11]]\n"
     ]
    },
    {
     "data": {
      "text/plain": [
       "array([[ 0,  1],\n",
       "       [ 2,  3],\n",
       "       [ 4,  5],\n",
       "       [ 6,  7],\n",
       "       [ 8,  9],\n",
       "       [10, 11]])"
      ]
     },
     "execution_count": 36,
     "metadata": {},
     "output_type": "execute_result"
    }
   ],
   "source": [
    "# vstack is vertical stacking\n",
    "a = np.arange(6).reshape(3,2)\n",
    "b = np.arange(6,12).reshape(3,2)\n",
    "print(a)\n",
    "print(b)\n",
    "np.vstack((a,b))"
   ]
  },
  {
   "cell_type": "code",
   "execution_count": 30,
   "metadata": {
    "collapsed": true
   },
   "outputs": [],
   "source": []
  },
  {
   "cell_type": "code",
   "execution_count": null,
   "metadata": {
    "collapsed": true
   },
   "outputs": [],
   "source": []
  }
 ],
 "metadata": {
  "anaconda-cloud": {},
  "kernelspec": {
   "display_name": "Python [default]",
   "language": "python",
   "name": "python3"
  },
  "language_info": {
   "codemirror_mode": {
    "name": "ipython",
    "version": 3
   },
   "file_extension": ".py",
   "mimetype": "text/x-python",
   "name": "python",
   "nbconvert_exporter": "python",
   "pygments_lexer": "ipython3",
   "version": "3.5.4"
  }
 },
 "nbformat": 4,
 "nbformat_minor": 1
}
