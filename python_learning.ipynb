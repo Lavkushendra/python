{
 "cells": [
  {
   "cell_type": "code",
   "execution_count": 1,
   "metadata": {
    "collapsed": true
   },
   "outputs": [],
   "source": [
    "#https://jakevdp.github.io/PythonDataScienceHandbook/01.06-errors-and-debugging.html\n",
    "def func1(a, b):\n",
    "    return a / b\n",
    "\n",
    "def func2(x):\n",
    "    a = x\n",
    "    b = x - 1\n",
    "    return func1(a, b)"
   ]
  },
  {
   "cell_type": "code",
   "execution_count": 2,
   "metadata": {
    "collapsed": false
   },
   "outputs": [
    {
     "name": "stdout",
     "output_type": "stream",
     "text": [
      "Exception reporting mode: Plain\n"
     ]
    }
   ],
   "source": [
    "# Switching on debug in Plain mode\n",
    "%xmode Plain\n",
    "#%xmode takes a single argument, the mode, and there are three possibilities: Plain, Context, and Verbose. The default \n",
    "#is Context, and gives output like that just shown before. "
   ]
  },
  {
   "cell_type": "code",
   "execution_count": 3,
   "metadata": {
    "collapsed": false
   },
   "outputs": [
    {
     "ename": "ZeroDivisionError",
     "evalue": "division by zero",
     "output_type": "error",
     "traceback": [
      "Traceback \u001b[0;36m(most recent call last)\u001b[0m:\n",
      "  File \u001b[1;32m\"<ipython-input-3-dd33f9a8678b>\"\u001b[0m, line \u001b[1;32m2\u001b[0m, in \u001b[1;35m<module>\u001b[0m\n    func2(1)\n",
      "  File \u001b[1;32m\"<ipython-input-1-3e5dde0c103f>\"\u001b[0m, line \u001b[1;32m8\u001b[0m, in \u001b[1;35mfunc2\u001b[0m\n    return func1(a, b)\n",
      "\u001b[0;36m  File \u001b[0;32m\"<ipython-input-1-3e5dde0c103f>\"\u001b[0;36m, line \u001b[0;32m3\u001b[0;36m, in \u001b[0;35mfunc1\u001b[0;36m\u001b[0m\n\u001b[0;31m    return a / b\u001b[0m\n",
      "\u001b[0;31mZeroDivisionError\u001b[0m\u001b[0;31m:\u001b[0m division by zero\n"
     ]
    }
   ],
   "source": [
    "#Below  we get error in Plain mode-but we get specif error detail\n",
    "func2(1)"
   ]
  },
  {
   "cell_type": "code",
   "execution_count": null,
   "metadata": {
    "collapsed": false
   },
   "outputs": [],
   "source": [
    "%xmode Verbose"
   ]
  },
  {
   "cell_type": "code",
   "execution_count": null,
   "metadata": {
    "collapsed": false
   },
   "outputs": [],
   "source": [
    "#Below  we get error in Verbose mode-but we get specif error detail\n",
    "func2(1)"
   ]
  },
  {
   "cell_type": "code",
   "execution_count": null,
   "metadata": {
    "collapsed": true
   },
   "outputs": [],
   "source": [
    "#Interactive debug: The standard Python tool for interactive debugging is pdb\n",
    "%debug"
   ]
  },
  {
   "cell_type": "code",
   "execution_count": null,
   "metadata": {
    "collapsed": true
   },
   "outputs": [],
   "source": [
    "#If you'd like the debugger to launch automatically whenever an exception is raised, you can use the %pdb magic function\n",
    "#to turn on this automatic behavior:\n",
    "%xmode Plain\n",
    "%pdb on\n",
    "func2(1)"
   ]
  },
  {
   "cell_type": "code",
   "execution_count": null,
   "metadata": {
    "collapsed": true
   },
   "outputs": [],
   "source": [
    "#you can run it with the command %run -d, and use the next command to step through the lines of code interactively."
   ]
  },
  {
   "cell_type": "code",
   "execution_count": null,
   "metadata": {
    "collapsed": true
   },
   "outputs": [],
   "source": [
    "#Profiling Full Scripts- %prun\n",
    "def sum_of_lists(N):\n",
    "    total = 0\n",
    "    for i in range(5):\n",
    "        L = [j ^ (j >> i) for j in range(N)]\n",
    "        total += sum(L)\n",
    "    return total"
   ]
  },
  {
   "cell_type": "code",
   "execution_count": null,
   "metadata": {
    "collapsed": true
   },
   "outputs": [],
   "source": [
    "%prun sum_of_lists(1000000)\n",
    "\n",
    "#  14 function calls in 0.643 seconds\n",
    "\n",
    "#   Ordered by: internal time\n",
    "\n",
    "#   ncalls  tottime  percall  cumtime  percall filename:lineno(function)\n",
    "#        1    0.523    0.523    0.635    0.635 <ipython-input-6-175150a86921>:2(sum_of_lists)\n",
    "#        6    0.065    0.011    0.065    0.011 {range}\n",
    "#        5    0.047    0.009    0.047    0.009 {sum}\n",
    "#        1    0.008    0.008    0.643    0.643 <string>:1(<module>)\n",
    "#        1    0.000    0.000    0.000    0.000 {method 'disable' of '_lsprof.Profiler' objects}"
   ]
  },
  {
   "cell_type": "code",
   "execution_count": null,
   "metadata": {
    "collapsed": true
   },
   "outputs": [],
   "source": [
    "%load_ext line_profiler"
   ]
  },
  {
   "cell_type": "code",
   "execution_count": null,
   "metadata": {
    "collapsed": true
   },
   "outputs": [],
   "source": [
    "#Line level pruning\n",
    "%lprun -f sum_of_lists sum_of_lists(5000)\n",
    "\n",
    "#Timer unit: 1e-06 s\n",
    "\n",
    "#Total time: 0.015635 s\n",
    "#File: <ipython-input-6-175150a86921>\n",
    "#Function: sum_of_lists at line 2\n",
    "\n",
    "#Line #      Hits         Time  Per Hit   % Time  Line Contents\n",
    "#==============================================================\n",
    "#     2                                           def sum_of_lists(N):\n",
    "#     3         1            4      4.0      0.0      total = 0\n",
    "#     4         6            9      1.5      0.1      for i in range(5):\n",
    "#     5     25005        15369      0.6     98.3          L = [j ^ (j >> i) for j in range(N)]\n",
    "#     6         5          253     50.6      1.6          total += sum(L)\n",
    "#     7         1            0      0.0      0.0      return total"
   ]
  },
  {
   "cell_type": "code",
   "execution_count": null,
   "metadata": {
    "collapsed": true
   },
   "outputs": [],
   "source": [
    "%load_ext memory_profiler\n",
    "#Memory Usage Detail\n",
    "%memit sum_of_lists(1000000)"
   ]
  },
  {
   "cell_type": "code",
   "execution_count": null,
   "metadata": {
    "collapsed": true
   },
   "outputs": [],
   "source": [
    "#LIST\n",
    "# empty list\n",
    "my_list = []\n",
    "\n",
    "# list of integers\n",
    "my_list = [1, 2, 3]\n",
    "\n",
    "# list with mixed datatypes\n",
    "my_list = [1, \"Hello\", 3.4]\n",
    "\n",
    "# nested list\n",
    "my_list = [\"mouse\", [8, 4, 6], ['a']]\n",
    "\n",
    "#slice lists in Python\n",
    "my_list = ['p','r','o','g','r','a','m','i','z']\n",
    "# elements 3rd to 5th\n",
    "print(my_list[2:5])\n",
    "\n",
    "# elements beginning to 4th\n",
    "print(my_list[:-5])\n",
    "\n",
    "# elements 6th to end\n",
    "print(my_list[5:])\n",
    "\n",
    "# elements beginning to end\n",
    "print(my_list[:])\n",
    "\n",
    "#add elements to a list\n",
    "# mistake values\n",
    "odd = [2, 4, 6, 8]\n",
    "\n",
    "# change the 1st item    \n",
    "odd[0] = 1            \n",
    "\n",
    "# Output: [1, 4, 6, 8]\n",
    "print(odd)\n",
    "\n",
    "# change 2nd to 4th items\n",
    "odd[1:4] = [3, 5, 7]  \n",
    "\n",
    "# Output: [1, 3, 5, 7]\n",
    "print(odd)       \n",
    "\n",
    "my_list = ['p','r','o','b','l','e','m']\n",
    "my_list.remove('p')\n",
    "\n",
    "# Output: ['r', 'o', 'b', 'l', 'e', 'm']\n",
    "print(my_list)\n",
    "\n",
    "# Output: 'o'\n",
    "print(my_list.pop(1))\n",
    "\n",
    "# Output: ['r', 'b', 'l', 'e', 'm']\n",
    "print(my_list)\n",
    "\n",
    "# Output: 'm'\n",
    "print(my_list.pop())\n",
    "\n",
    "# Output: ['r', 'b', 'l', 'e']\n",
    "print(my_list)\n",
    "\n",
    "#my_list.clear()\n",
    "\n",
    "# Output: []\n",
    "print(my_list)\n",
    "\n",
    "#Iterating Through a List\n",
    "for fruit in ['apple','banana','mango']:\n",
    "    print(\"I like\",fruit)\n",
    "\n",
    "my_list = ['p','r','o','b','l','e','m']\n",
    "\n",
    "# delete one item\n",
    "del my_list[2]\n",
    "\n",
    "# Output: ['p', 'r', 'b', 'l', 'e', 'm']     \n",
    "print(my_list)\n",
    "\n",
    "# delete multiple items\n",
    "del my_list[1:5]  \n",
    "\n",
    "# Output: ['p', 'm']\n",
    "print(my_list)\n",
    "\n",
    "# delete entire list\n",
    "del my_list       \n",
    "\n",
    "# Error: List not defined\n",
    "print(my_list)"
   ]
  },
  {
   "cell_type": "code",
   "execution_count": 39,
   "metadata": {
    "collapsed": false
   },
   "outputs": [
    {
     "name": "stdout",
     "output_type": "stream",
     "text": [
      "tup1[0]:  physics\n",
      "tup2[1:5]:  (2, 3, 4, 5)\n",
      "(12, 34.56, 'abc', 'xyz')\n",
      "3\n"
     ]
    }
   ],
   "source": [
    "#Tuple -A tuple is a sequence of immutable Python objects. \n",
    "tup1 = ('physics', 'chemistry', 1997, 2000);\n",
    "tup2 = (1, 2, 3, 4, 5, 6, 7 );\n",
    "print (\"tup1[0]: \", tup1[0]);\n",
    "print (\"tup2[1:5]: \", tup2[1:5]);\n",
    "\n",
    "#Updating Tuples\n",
    "tup1 = (12, 34.56);\n",
    "tup2 = ('abc', 'xyz');\n",
    "\n",
    "# Following action is not valid for tuples\n",
    "# tup1[0] = 100;\n",
    "\n",
    "# So let's create a new tuple as follows\n",
    "tup3 = tup1 + tup2;\n",
    "print (tup3);\n",
    "\n",
    "tuple_test = [(\"hi\",1),(\"there\",2),(\"there\",3)]\n",
    "test_dict = dict(tuple_test)\n",
    "print(test_dict[\"there\"]) #this only works for one value search\n",
    "\n",
    "#Advantages of Tuple over List\n",
    "\n",
    "#    1.We generally use tuple for heterogeneous (different) datatypes and list for homogeneous (similar) datatypes.\n",
    "#    2.Since tuple are immutable, iterating through tuple is faster than with list. So there is a slight performance boost.\n",
    "#    3.Tuples that contain immutable elements can be used as key for a dictionary. With list, this is not possible.\n",
    "#    4.If you have data that doesn't change, implementing it as tuple will guarantee that it remains write-protected.\n"
   ]
  },
  {
   "cell_type": "code",
   "execution_count": null,
   "metadata": {
    "collapsed": true
   },
   "outputs": [],
   "source": [
    "#list comprehensions\n",
    "x = [i for i in range(10)]\n",
    "print x\n",
    "\n",
    "h_letters = [ letter for letter in 'human' ]\n",
    "print( h_letters)"
   ]
  },
  {
   "cell_type": "code",
   "execution_count": null,
   "metadata": {
    "collapsed": true
   },
   "outputs": [],
   "source": [
    "#Lambda Function\n",
    "#def keyword is used to define the normal functions and the lambda keyword is used to create anonymous functions\n",
    "#\n",
    "#    This function can have any number of arguments but only one expression, which is evaluated and returned.\n",
    "#    One is free to use lambda functions wherever function objects are required.\n",
    "#    You need to keep in your knowledge that lambda functions are syntactically restricted to a single expression.\n",
    "#    It has various uses in particular fields of programming besides other types of expressions in functions.\n",
    "g = lambda x: x*x*x \n",
    "print(g(7)) \n",
    "\n",
    "#lambda with filter\n",
    "li = [5, 7, 22, 97, 54, 62, 77, 23, 73, 61] \n",
    "final_list = list(filter(lambda x: (x%2 != 0) , li)) \n",
    "print(final_list) \n",
    "\n",
    "\n",
    "# Python code to illustrate  \n",
    "# map() with lambda()  \n",
    "# to get double of a list. \n",
    "li = [5, 7, 22, 97, 54, 62, 77, 23, 73, 61] \n",
    "final_list = list(map(lambda x: x*2 , li)) \n",
    "print(final_list) "
   ]
  },
  {
   "cell_type": "code",
   "execution_count": 32,
   "metadata": {
    "collapsed": false
   },
   "outputs": [
    {
     "name": "stdout",
     "output_type": "stream",
     "text": [
      "{'model': 'Mustang', 'brand': 'Ford', 'year': 1964}\n",
      "Mustang\n",
      "{'model': 'Mustang', 'brand': 'Ford', 'year': 2018}\n",
      "Values\n",
      "model Mustang\n",
      "brand Ford\n",
      "year 1964\n",
      "Print all values in dictionery\n",
      "Mustang\n",
      "Ford\n",
      "1964\n",
      "Yes, 'model' is one of the keys in the thisdict dictionary\n",
      "Keys with value equal to \n",
      "['here', 'test', 'this', 'now']\n",
      "Value for keys are: here\n",
      "Value for keys are: test\n",
      "Value for keys are: this\n",
      "Value for keys are: now\n",
      "Values are: here\n",
      "Values are: test\n"
     ]
    }
   ],
   "source": [
    "#Dictionary- A dictionary is a collection which is unordered, changeable and indexed. \n",
    "thisdict =\t{\n",
    "  \"brand\": \"Ford\",\n",
    "  \"model\": \"Mustang\",\n",
    "  \"year\": 1964\n",
    "}\n",
    "print(thisdict)\n",
    "x = thisdict[\"model\"]\n",
    "print (x)    \n",
    "\n",
    "#Changing value \n",
    "thisdict1 =\t{\n",
    "  \"brand\": \"Ford\",\n",
    "  \"model\": \"Mustang\",\n",
    "  \"year\": 1964\n",
    "}\n",
    "thisdict1[\"year\"] = 2018\n",
    "print(thisdict1)\n",
    "\n",
    "print('Values')\n",
    "#Loop through both keys and values, by using the items() function:\n",
    "for x, y in thisdict.items():\n",
    "  print(x, y) \n",
    "print('Print all values in dictionery')\n",
    "for x in thisdict:\n",
    "  print(thisdict[x]) \n",
    "\n",
    "thisdict =\t{\n",
    "  \"brand\": \"Ford\",\n",
    "  \"model\": \"Mustang\",\n",
    "  \"year\": 1964\n",
    "}\n",
    "if \"model\" in thisdict:\n",
    "  print(\"Yes, 'model' is one of the keys in the thisdict dictionary\")  \n",
    "\n",
    "'''Finding keys by searchign value'''\n",
    "# Dictionary of strings and int\n",
    "dictOfWords = {\n",
    "        \"hello\": 56,\n",
    "        \"at\" : 23 ,\n",
    "        \"test\" : 43,\n",
    "        \"this\" : 97,\n",
    "        \"here\" : 43,\n",
    "        \"now\" : 97\n",
    "        }\n",
    "    \n",
    "def getKeysByValue(dictOfElements, valueToFind):\n",
    "    listOfKeys = list()\n",
    "    listOfItems = dictOfElements.items()\n",
    "    for item  in listOfItems:\n",
    "        if item[1] in valueToFind:\n",
    "            listOfKeys.append(item[0])\n",
    "    return  listOfKeys \n",
    "    \n",
    "\n",
    "listOfKeys = getKeysByValue(dictOfWords, [43,97])\n",
    "    \n",
    "print(\"Keys with value equal to \")\n",
    "print(listOfKeys)\n",
    "#Iterate over the list of keys\n",
    "for key  in listOfKeys:\n",
    "    print(\"Value for keys are: \"+str(key))\n",
    "    \n",
    "#searching keys using one line\n",
    "listOfValues = [key for (key,value) in dictOfWords.items() if value==43]\n",
    "for dictKey in listOfValues:\n",
    "    print(\"Values are: \"+dictKey) "
   ]
  },
  {
   "cell_type": "code",
   "execution_count": null,
   "metadata": {
    "collapsed": true
   },
   "outputs": [],
   "source": [
    "#NUMBPY \n",
    "#The most important object defined in NumPy is an N-dimensional array type called ndarray. It describes the collection of\n",
    "#items of the same type. Items in the collection can be accessed using a zero-based index.\n",
    "\n",
    "#Every item in an ndarray takes the same size of block in the memory. Each element in ndarray is an object of data-type \n",
    "#object (called dtype).\n",
    "\n",
    "import numpy as np \n",
    "a = np.array([1,2,3]) \n",
    "print a\n",
    "\n",
    "#printing shape of array\n",
    "import numpy as np \n",
    "a = np.array([[1,2,3],[4,5,6]]) \n",
    "print a.shape\n",
    "\n",
    "import numpy as np \n",
    "a = np.array([[1,2,3],[4,5,6]]) \n",
    "b = a.reshape(3,2) \n",
    "print b"
   ]
  },
  {
   "cell_type": "code",
   "execution_count": null,
   "metadata": {
    "collapsed": true
   },
   "outputs": [],
   "source": [
    "#Concatenate\n",
    "my_name = \"bose\"\n",
    "print(\"My name is \"+ my_name)"
   ]
  },
  {
   "cell_type": "code",
   "execution_count": null,
   "metadata": {
    "collapsed": true
   },
   "outputs": [],
   "source": [
    "#Index of String\n",
    "my_name = \"bose\"\n",
    "print(\"Index 0 is \"+ my_name[0])\n",
    "#Finding index \n",
    "print(\"Value at 0 is \"+ str(my_name.index(\"b\")))\n",
    "print(\"Value at 0 is \"+ str(my_name.index(\"os\"))) #gives starting letter\n",
    "print(\"Replacement is \"+ str(my_name.replace(\"os\",\"oooossss\"))) "
   ]
  },
  {
   "cell_type": "code",
   "execution_count": null,
   "metadata": {
    "collapsed": true
   },
   "outputs": [],
   "source": [
    "name = input(\"Enter your detail\")\n",
    "print(\"Hello \" + name +\"!\")"
   ]
  },
  {
   "cell_type": "code",
   "execution_count": null,
   "metadata": {
    "collapsed": true
   },
   "outputs": [],
   "source": [
    "#While loop\n",
    "i =1\n",
    "while i<=10:\n",
    "       print(i)\n",
    "       i+=1\n",
    "print(\"Done with loop!\")    "
   ]
  },
  {
   "cell_type": "code",
   "execution_count": null,
   "metadata": {
    "collapsed": true
   },
   "outputs": [],
   "source": [
    "#Looping through string\n",
    "for letter in \"Girrafe Academy\":\n",
    "  print(letter+\"\\n\")"
   ]
  },
  {
   "cell_type": "code",
   "execution_count": null,
   "metadata": {
    "collapsed": true
   },
   "outputs": [],
   "source": [
    "#for comprehension with list\n",
    "friends =[\"John\",\"Harry\",\"John\"]\n",
    "for friend in friends:\n",
    "    print(friend)"
   ]
  },
  {
   "cell_type": "code",
   "execution_count": null,
   "metadata": {
    "collapsed": true
   },
   "outputs": [],
   "source": [
    "#Range -from 3 to 10\n",
    "for index in range(3,10):\n",
    "     print(index)"
   ]
  },
  {
   "cell_type": "code",
   "execution_count": null,
   "metadata": {
    "collapsed": true
   },
   "outputs": [],
   "source": [
    "#Looping through using range and list\n",
    "friends =[\"John\",\"Harry\",\"John\"]\n",
    "for index in range(len(friends)):\n",
    "    print(friends[index])"
   ]
  },
  {
   "cell_type": "code",
   "execution_count": null,
   "metadata": {
    "collapsed": true
   },
   "outputs": [],
   "source": [
    "#Function checking vowels replaces with g\n",
    "def translate (phrase):\n",
    " translation = \"\"\n",
    " for letter in phrase:\n",
    "    if letter in \"AEIOUaeiou\":\n",
    "        translation= translation + \"g\"\n",
    "    else:\n",
    "        translation= translation + letter\n",
    " return translation   \n",
    "\n",
    "print(translate(raw_input(\"Enter phrase here!\"))) # input keyword from python 3"
   ]
  },
  {
   "cell_type": "code",
   "execution_count": null,
   "metadata": {
    "collapsed": true
   },
   "outputs": [],
   "source": [
    "#try and catch block\n",
    "try:\n",
    "    number = int(raw_input(\"Enter a number!\"))\n",
    "    print(number)\n",
    "except:\n",
    "    print(\"Invalid Number\")\n"
   ]
  },
  {
   "cell_type": "code",
   "execution_count": null,
   "metadata": {
    "collapsed": true
   },
   "outputs": [],
   "source": [
    "#try catch-specific\n",
    "try:\n",
    "    val =10/0\n",
    "    print(val)\n",
    "except ZeroDivisionError:\n",
    "    print(\"Divide by Zero\")\n",
    "except ValueError:\n",
    "    print(\"Invalid Erro\")"
   ]
  },
  {
   "cell_type": "code",
   "execution_count": null,
   "metadata": {
    "collapsed": true
   },
   "outputs": [],
   "source": [
    "try:\n",
    "    number =int(raw_input(\"Enter a number!!\"))\n",
    "    print (1/number)\n",
    "except ZeroDivisionError as err:  # we are printing error as defined by python\n",
    "    print(err)\n",
    "except ValueError:\n",
    "    print(\"Value Erro!\")"
   ]
  },
  {
   "cell_type": "code",
   "execution_count": null,
   "metadata": {
    "collapsed": true
   },
   "outputs": [],
   "source": [
    "'''open and close file'''\n",
    "banking_data =open(\"banking.csv\",\"r\") \n",
    "print(banking_data.readable())  # to check if file is readable\n",
    "banking_data.close()"
   ]
  },
  {
   "cell_type": "code",
   "execution_count": null,
   "metadata": {
    "collapsed": true
   },
   "outputs": [],
  },
  {
   "cell_type": "code",
   "execution_count": null,
   "metadata": {
    "collapsed": true
   },
   "outputs": [],
   "source": [
    "#Generator -\n",
    "# generally\n",
    "def square_numbers(nums):\n",
    "    for i in nums:\n",
    "         yield (i*i)\n",
    "\n",
    "my_nums = square_numbers([1,2,3,4])\n",
    "print(my_nums) # this prints objects as genrator returns value at runtime only next(my_nums) would print 0he index valu\n",
    "for num in my_nums: \n",
    "    print(num)  # prints all value\n",
    "\n",
    "#generator with for comprehension    \n",
    "my_num_for = (x*x for x in [1,2,3,4,5])\n",
    "\n",
    "print(my_num_for) # this prints objects as genrator returns value at runtime only next(my_nums_for) would print 0he index valu\n",
    "#Convert to list and print then it will print-This becomes slow for huge values as generator doesnt keep in memory\n",
    "# but list has to keep in memory\n",
    "print(list(my_num_for)  )\n",
    "#Below is not printing as its already looped\n",
    "for num in my_num_for: \n",
    "    print(\"Generator with for-\"+str(num))  # prints all value\n",
    "\n",
    "    "
   ]
  },
  {
   "cell_type": "code",
   "execution_count": null,
   "metadata": {
    "collapsed": false
   },
   "outputs": [],
   "source": [
    "'''List in python\n",
    "   List all values homogeneous'''\n",
    "x = \"Computer\"\n",
    "print(x[1:4])\n",
    "print(x[1:6:2])\n",
    "print(x[:3])\n",
    "print(x[3:])\n",
    "'''Concatenate List'''\n",
    "z = [1,2,3] + [4,5,6]\n",
    "print(z)\n",
    "k = [8,5] * 3\n",
    "print(k)\n",
    "#checkign membership\n",
    "membership = [3,4,5,6,7,8]\n",
    "print(3 in membership)\n",
    "#iterating\n",
    "j= [7,8,3]\n",
    "for item in j:\n",
    "    print(\"Values-\"+str(item))\n",
    "#index and item\n",
    "for index,item in enumerate(j):\n",
    "    print(\"Index-\"+str(index)+\"-Value-\"+str(item))\n",
    "#length of item\n",
    "print(len(j))\n",
    "print(sorted(j))\n",
    "items = ['pig','cow','cow','tiger']\n",
    "print(\"Print of cow count:\"+str(items.count('cow')))\n",
    "#Index of 1st occurence\n",
    "index_test='hippo'\n",
    "print(\"1st index of p is:\"+str(index_test.index('p')))\n",
    "#deleting 2nd item\n",
    "del[items[1]]\n",
    "print(items)\n",
    "#append\n",
    "items.append(\"lion\")\n",
    "print(\"After append: \"+str(items))\n",
    "#extend -merging two list\n",
    "items2 = [\"human\",\"apes\"]\n",
    "items.extend(items2)\n",
    "print(items)\n",
    "#insert - to insert in specific position\n",
    "items.insert(1,[\"donkey\",\"monkey\"])\n",
    "print(\"items after insert\"+str(items))\n",
    "#pop last element from list\n",
    "print(items.pop())\n",
    "#removes based on value i.e cow here\n",
    "items.remove(\"cow\")\n",
    "print(items)"
   ]
  },
  {
   "cell_type": "code",
   "execution_count": null,
   "metadata": {
    "collapsed": true
   },
   "outputs": [],
   "source": [
    "'''Tuples-Tuples will be with () or even that not reqd sometimes\n",
    "   tuples are immutable but individual elements can be mutable\n",
    "   Tuples are list of values grouped together\n",
    "   Tuples can be heterogeneous\n",
    "   We cannot modify value in tuple\n",
    "'''\n",
    "perfect_squares = (1,4,9,16,25)\n",
    "for n in perfect_squares:\n",
    "   print(\"Squares: \"+ str(n))"
   ]
  },
  {
   "cell_type": "code",
   "execution_count": 5,
   "metadata": {
    "collapsed": false
   },
   "outputs": [
    {
     "name": "stdout",
     "output_type": "stream",
     "text": [
      "<class 'set'>\n",
      "Set value:{'orange', 'mango', 'apple'}\n",
      "Added set value{1, 2}\n",
      "<class 'dict'>\n",
      "<class 'set'>\n",
      "{1, 2, 3, 4, 7}\n",
      "Frozen set value is frozenset({1, 2, 3, 4, 7})\n",
      "1\n",
      "2\n",
      "3\n",
      "4\n",
      "7\n",
      "{'h', 'c', 'a', 'g', 'b'}\n",
      "{'a'}\n",
      "{'c', 'b'}\n",
      "{'mango', 'cherry', 'banana', 'apple', 'grapes', 'orange'}\n"
     ]
    }
   ],
   "source": [
    "'''Sets'''\n",
    "'''Unordered collection of unque value and unindexed'''\n",
    "basket ={\"orange\",\"apple\",\"mango\",\"apple\"}\n",
    "print(type(basket))\n",
    "print(\"Set value:\"+str(basket)) #set makes it unique\n",
    "a = set()\n",
    "a.add(1)\n",
    "a.add(2)\n",
    "print(\"Added set value\"+str(a))\n",
    "#note below point\n",
    "test_type={}\n",
    "print(type(test_type))\n",
    "test_type={'something'} # as somethign is there it becomes set\n",
    "print(type(test_type))\n",
    "#set doesnt support index operations thats why test_type[0] will fail as canot address by index\n",
    "list_val=[1,2,3,4,1,2,3,7]\n",
    "unique_numbers =set (list_val)\n",
    "print(unique_numbers) #removes duplicate value as its converted to set\n",
    "#frozen set wont allow adding element\n",
    "fs = frozenset(list_val)\n",
    "print(\"Frozen set value is \"+str(fs))\n",
    "'''Cant add value to frozen set'''\n",
    "#fs.add(8) #TypeError: cannot concatenate 'str' and 'frozenset' objects\n",
    "#printing values\n",
    "for i in fs:\n",
    "     print(i)\n",
    "set1={\"b\",\"c\",\"a\"}\n",
    "set2={\"a\",\"h\",\"g\"}\n",
    "#union\n",
    "set3 = set1 | set2\n",
    "print (set3)\n",
    "#intersect\n",
    "set4 = set1&set2\n",
    "print(set4)\n",
    "#minus\n",
    "set5 = set1 - set2\n",
    "print (set5)    \n",
    "'''Add multiple items to a set, using the update() method:'''\n",
    "thisset = {\"apple\", \"banana\", \"cherry\"}\n",
    "thisset.update([\"orange\", \"mango\", \"grapes\"])\n",
    "print(thisset) "
   ]
  },
  {
   "cell_type": "code",
   "execution_count": 4,
   "metadata": {
    "collapsed": false
   },
   "outputs": [
    {
     "name": "stdout",
     "output_type": "stream",
     "text": [
      "{'harry': 898786765, 'tom': 878787658, 'joe': 898776658}\n",
      "Retrieved value:878787658\n",
      "After adding{'harry': 898786765, 'tom': 878787658, 'sam': 938989474, 'joe': 898776658}\n",
      "After deleting{'harry': 898786765, 'sam': 938989474, 'joe': 898776658}\n",
      "key:-harry-Value-898786765\n",
      "key:-sam-Value-938989474\n",
      "key:-joe-Value-898776658\n",
      "Now key:-joe-Now Value-898776658\n",
      "Now key:-joe-Now Value-898776658\n",
      "Now key:-joe-Now Value-898776658\n",
      "True\n",
      "after clear-{}\n",
      "Yes, 'model' is one of the keys in the thisdict dictionary\n",
      "{'brand': 'Ford', 'year': 1964}\n",
      "2\n",
      "['apple', 'banana', 'cherry', 'orange']\n"
     ]
    }
   ],
   "source": [
    "'''Dictionaries'''\n",
    "'''A dictionary is a collection which is unordered, changeable and indexed\n",
    "   Dictionary is mutable \n",
    "   No duplicate members.'''\n",
    "d = {\"tom\":878787658,\"joe\":898776658,\"harry\":898786765}\n",
    "print(d)\n",
    "#Retrieving specific value using key-dictionery\n",
    "print(\"Retrieved value:\"+ str(d[\"tom\"]))\n",
    "'''Adding value to dictionary'''\n",
    "d[\"sam\"] = 938989474\n",
    "print(\"After adding\"+str(d))\n",
    "'''Removing value from dictionary'''\n",
    "del d[\"tom\"]\n",
    "print(\"After deleting\"+str(d))\n",
    "'''Iterating key and value'''\n",
    "for key in d:\n",
    "    print(\"key:-\"+key+\"-Value-\"+ str(d[key])) \n",
    "'''Another way to iterate key and value in duictionary'''  \n",
    "for k,v in d.items():\n",
    "    print(\"Now key:-\"+key+\"-Now Value-\"+ str(d[key])) \n",
    "'''in checking'''\n",
    "print(\"sam\" in d)\n",
    "'''clearing full dictionary'''\n",
    "d.clear()\n",
    "print(\"after clear-\"+str(d))\n",
    "'''Check if Key Exists'''\n",
    "thisdict =\t{\n",
    "  \"brand\": \"Ford\",\n",
    "  \"model\": \"Mustang\",\n",
    "  \"year\": 1964\n",
    "}\n",
    "if \"model\" in thisdict:\n",
    "  print(\"Yes, 'model' is one of the keys in the thisdict dictionary\") \n",
    "'''Removing model column'''\n",
    "thisdict.pop(\"model\") \n",
    "print(thisdict)\n",
    "'''Length of Dictionary'''\n",
    "print(len(thisdict))\n",
    "'''Append in Dictionary'''\n",
    "thislist = [\"apple\", \"banana\", \"cherry\"]\n",
    "thislist.append(\"orange\")\n",
    "print(thislist)"
   ]
  },
  {
   "cell_type": "code",
   "execution_count": null,
   "metadata": {
    "collapsed": true
   },
   "outputs": [],
   "source": [
    "'''Array-Type has to be declared upfront'''\n",
    "from array import *\n",
    "vals = array('i',[5,6,3,2,9])\n",
    "print(vals)\n",
    "vals.reverse()\n",
    "#Array is accessible by index as its more like list\n",
    "print(vals[0])\n",
    "#printing all values one by one\n",
    "for i in range(5):\n",
    "  print(\"Printing values:\"+str(vals[i]))  \n",
    "for i in vals:\n",
    "  print(\"Printing values:\"+str(i))\n",
    "#newarray creation\n",
    "newArray = array(vals.typecode,(a for a in vals))\n",
    "for e in newArray:\n",
    "  print(e)\n"
   ]
  },
  {
   "cell_type": "code",
   "execution_count": null,
   "metadata": {
    "collapsed": true
   },
   "outputs": [],
   "source": [
    "#Array with input value \n",
    "from array import *\n",
    "arr = array('i',[])\n",
    "q = input(raw_input(\"Enter length of array\"))\n",
    "for j in range(q):\n",
    "    x = int(raw_input(\"Enter input value\")) \n",
    "    arr.append(x)\n",
    "print(\"Input array values are:\"+str(arr)) \n",
    "#Searching array from input\n",
    "val = int(raw_input(\"Enter the value to search\"))\n",
    "k=0\n",
    "for e in arr:\n",
    "    if e == val:\n",
    "         print(\"Found in position:\"+str(k))\n",
    "         break\n",
    "    k+=1  \n",
    "#rather than using for we can do like below in one line    \n",
    "print(arr.index(val))    "
   ]
  },
  {
   "cell_type": "code",
   "execution_count": null,
   "metadata": {
    "collapsed": true
   },
   "outputs": [],
   "source": [
    "#Numpy-This is used as normal array doesnt have 2d array.\n",
    "from numpy import *\n",
    "#notice type is not there below which usually we pass in array\n",
    "arr = array([44,55,67,78,38])\n",
    "print(arr)\n",
    "#Ways by which arrays can be created -1.array() 2.linspace() 3.logspace() 4.arange() 5.zeros() 6.ones()\n",
    "#Below there will are total 0 to 15 number s which will be divided into 16 parts\n",
    "arr1 = linspace(0,15,16)\n",
    "print(arr1)\n",
    "arr2 = linspace(0,15,20)\n",
    "print(\"Linspace: \"+str(arr2))\n",
    "#arange=This prints in steps i.e 1 then 3 then 5 then 7 etc\n",
    "arr3 = arange(1,15,2)\n",
    "print(\"Arange value: \"+str(arr3))\n",
    "\n",
    "#Array Copy-This way array will be created in diff location, (i.e deep copy) if view is not there thenit will be just a copy pointing \n",
    "#to same location (i.e shallow copy)\n",
    "arr_new = arr.view()\n",
    "print(\"Location1: \"+str(id(arr)))\n",
    "print(\"Location2: \"+str(id(arr_new)))"
   ]
  },
  {
   "cell_type": "code",
   "execution_count": null,
   "metadata": {
    "collapsed": true
   },
   "outputs": [],
   "source": [
    "#function-returning multiple values\n",
    "def add_sub(x,y):\n",
    "    c=x+y\n",
    "    d=x-y\n",
    "    return c,d\n",
    "result1,result2=add_sub(5,4)\n",
    "print(result1,result2)"
   ]
  },
  {
   "cell_type": "code",
   "execution_count": null,
   "metadata": {
    "collapsed": true
   },
   "outputs": [],
   "source": [
    "#Python is neither pass by value nor pass by reference\n",
    "def update(x):\n",
    "    print(\"x loc\", id(x))\n",
    "    x=8\n",
    "    print(\"x loc after\", id(x)) #after assignment location changes\n",
    "    print(\"x \", x)\n",
    "\n",
    "a = 10\n",
    "print(\"a loc \", id(a))\n",
    "update(a)\n",
    "print(\"a \", a)"
   ]
  },
  {
   "cell_type": "code",
   "execution_count": null,
   "metadata": {
    "collapsed": true
   },
   "outputs": [],
   "source": [
    "#Python is neither pass by value nor pass by reference\n",
    "#All the location same that means original list has been modified ,no new list created\n",
    "def update(lst):\n",
    "    print(\"lst loc\", id(lst))\n",
    "    lst[0]=8\n",
    "    print(\"lst loc after\", id(lst)) #after assignment location changes\n",
    "    print(\"lst \", lst)\n",
    "\n",
    "lst = [10,20,30]\n",
    "print(\"lst loc \", id(lst))\n",
    "update(lst)\n",
    "print(\"lst \", lst)"
   ]
  },
  {
   "cell_type": "code",
   "execution_count": null,
   "metadata": {
    "collapsed": true
   },
   "outputs": [],
   "source": [
    "#Actual arguments types 1.Position 2.Keyword 3.Default 4.Variable Length\n",
    "#Passing multiple values- b is variable length and is tuple by default\n",
    "def sum(a, *b):\n",
    "    c=a\n",
    "    for i in b:\n",
    "      c = c + i\n",
    "      print(c)\n",
    "    \n",
    "sum(5,7,8,9)    \n"
   ]
  },
  {
   "cell_type": "code",
   "execution_count": null,
   "metadata": {
    "collapsed": true
   },
   "outputs": [],
   "source": [
    "#Keyworded Variable Length Arguments\n",
    "#note here its ** ,any number of variable with defined key and value passed\n",
    "def person(name,**data):\n",
    "    print (name)\n",
    "    for k,v in data.items():\n",
    "        print(k,v)\n",
    "person('arin',age=22,city='Bangalore',mob =8927287873)        "
   ]
  },
  {
   "cell_type": "code",
   "execution_count": null,
   "metadata": {
    "collapsed": true
   },
   "outputs": [],
   "source": [
    "#Scope -referring global\n",
    "a=10\n",
    "def something():\n",
    "    global a  # global variable a is referred,if this not there then local is 15 global is 10\n",
    "    a=15\n",
    "    print(\"in fun\",a)\n",
    "\n",
    "something()\n",
    "\n",
    "print(\"outside\",a)"
   ]
  },
  {
   "cell_type": "code",
   "execution_count": null,
   "metadata": {
    "collapsed": true
   },
   "outputs": [],
   "source": [
    "#Scope -referring global\n",
    "a=10\n",
    "print(id(a))\n",
    "def something():\n",
    "    a =9\n",
    "    x = globals()['a']\n",
    "    print(id(x))\n",
    "    print(\"in fun\",a)\n",
    "    \n",
    "    globals()['a']=15 # this is the way to modify global variable in local scope\n",
    "    \n",
    "something()\n",
    "\n",
    "print(\"outside\",a)"
   ]
  },
  {
   "cell_type": "code",
   "execution_count": null,
   "metadata": {
    "collapsed": true
   },
   "outputs": [],
   "source": [
    "#lambda\n",
    "f = lambda a,b : a + b\n",
    "result = f(2,3)\n",
    "print(result)"
   ]
  },
  {
   "cell_type": "code",
   "execution_count": null,
   "metadata": {
    "collapsed": true
   },
   "outputs": [],
   "source": [
    "#filter,map and reduce\n",
    "\n",
    "from functools import reduce\n",
    "\n",
    "nums =[3,2,5,6,1]\n",
    "\n",
    "evens = list(filter(lambda n: n%2==0 ,nums))\n",
    "print(\"Evens are\"+ str(evens))\n",
    "\n",
    "doubles = list(map(lambda k: k*2 , nums))\n",
    "print(\"Doubles are\"+ str(doubles))\n",
    "\n",
    "sum = reduce(lambda a,b:a+b,doubles)\n",
    "print(\"Sum is\"+ str(sum))"
   ]
  },
  {
   "cell_type": "code",
   "execution_count": null,
   "metadata": {
    "collapsed": true
   },
   "outputs": [],
   "source": [
    "\n",
    "'''\n",
    "demo.py  file has :-\n",
    "def main():\n",
    "    print(\"Hello\")\n",
    "    print(\"Welcome User\")\n",
    "    print(\"Demo here :\"+__name__)\n",
    "\n",
    "if __name__ == \"__main__\": # by using this we stop main to be called in calc.py automatically\n",
    "    main()\n",
    "\n",
    "Calc.py file has :-\n",
    "import demo\n",
    "print(\"Its time to calculate\")\n",
    "\n",
    "O/P:(prints both prints as import is there)\n",
    "Hello\n",
    "Welcome User\n",
    "Its time to calculate\n",
    "\n",
    "Note: __name__ when called in calc will print Calc but in demo file it will print main as there is no import\n",
    "'''"
   ]
  },
  {
   "cell_type": "code",
   "execution_count": null,
   "metadata": {
    "collapsed": true
   },
   "outputs": [],
   "source": [
    "#Class and Object\n",
    "class Computer:\n",
    "    #this is the constructor- for every object it will be called once,self is passing object\n",
    "    #init is called by default\n",
    "    def __init__(self,cpu,ram):\n",
    "        self.cpu = cpu\n",
    "        self.ram = ram\n",
    "        print(\"in init\")\n",
    "    def config(self):\n",
    "        print(15,\"hehehe\",\"hahaha\")\n",
    "        print(\"Config is\", self.cpu , self.ram)\n",
    "\n",
    "#calling another way\n",
    "comp1 = Computer('i5','16')\n",
    "comp1.config()\n",
    "comp2 = Computer('Ryzen 3','8')\n",
    "comp2.config()"
   ]
  },
  {
   "cell_type": "code",
   "execution_count": 1,
   "metadata": {
    "collapsed": false
   },
   "outputs": [
    {
     "name": "stdout",
     "output_type": "stream",
     "text": [
      "arin\n",
      "arin\n",
      "Ages are different\n"
     ]
    }
   ],
   "source": [
    "#self is he object passed c1 or c2\n",
    "class Computer:\n",
    "    def __init__(self):\n",
    "        self.name=\"arin\"\n",
    "        self.age=28\n",
    "    def update(self):\n",
    "        self.age=30\n",
    "    #comparing objects- self here is c1 and others is c2\n",
    "    def compare(self,others):\n",
    "      if self.age == others.age:\n",
    "        print(\"Age are same\")\n",
    "      else:\n",
    "        print(\"Ages are different\")    \n",
    "c1 = Computer()\n",
    "c2 = Computer()\n",
    "#c1.name=\"Rashi\"\n",
    "#c1.age=78\n",
    "\n",
    "print(c1.name)\n",
    "print(c2.name)\n",
    "c1.age =55\n",
    "c2.age=65\n",
    "\n",
    "\n",
    "if c1.compare(c2):\n",
    "    print(\"They are same\")"
   ]
  },
  {
   "cell_type": "code",
   "execution_count": null,
   "metadata": {
    "collapsed": true
   },
   "outputs": [],
   "source": [
    "#Methoda are 3 types 1.Instance Method 2.Class Method 3.Static Method\n",
    "class Student:\n",
    "    school =\"Myschool\"\n",
    "    def __init__(self,m1,m2,m3):\n",
    "        self.m1 = m1\n",
    "        self.m2 = m2\n",
    "        self.m3 = m3\n",
    "    \n",
    "    #Instance method\n",
    "    def avg(self):\n",
    "        return (self.m1 + self.m2 + self.m3)/3\n",
    "    \n",
    "    @classmethod #This is decorator used for accessing class method\n",
    "    def getSchoolInfo(cls):\n",
    "        return cls.school\n",
    "    \n",
    "    @staticmethod  #Static Method\n",
    "    def info():\n",
    "        print(\"Info of module printed\")\n",
    "    \n",
    "s1 = Student(12,55,67)\n",
    "s2 = Student(45,56,78)\n",
    "\n",
    "#Call to instance method\n",
    "print(s1.avg())\n",
    "#Below is call of class method\n",
    "print(Student.getSchoolInfo())\n",
    "#Static Method\n",
    "print(Student.info())"
   ]
  },
  {
   "cell_type": "code",
   "execution_count": null,
   "metadata": {
    "collapsed": true
   },
   "outputs": [],
   "source": [
    "#Inner Class - Calling from inside outer class\n",
    "class Student:\n",
    "    def __init__(self,name,rollno):\n",
    "        self.name = name\n",
    "        self.rollno = rollno\n",
    "        self.lap = self.Laptop()\n",
    "              \n",
    "    def show(self):\n",
    "        print(self.name,self.rollno)\n",
    "        \n",
    "    #inner class Laptop   \n",
    "    class Laptop:        \n",
    "        def __init__(self):\n",
    "            self.brand = 'HP'\n",
    "            self.cpu ='i5'\n",
    "            self.ram =8\n",
    "\n",
    "            \n",
    "s1 = Student('Navin',2)\n",
    "s2 = Student('Jenny',3)\n",
    "\n",
    "s1.show()\n",
    "\n",
    "lap1 = s1.lap\n",
    "lap2 = s2.lap"
   ]
  },
  {
   "cell_type": "code",
   "execution_count": null,
   "metadata": {
    "collapsed": true
   },
   "outputs": [],
   "source": [
    "#Inner Class - Calling from outisde outer class\n",
    "class Student:\n",
    "    def __init__(self,name,rollno):\n",
    "        self.name = name\n",
    "        self.rollno = rollno\n",
    "        self.lap = self.Laptop() \n",
    "        \n",
    "        \n",
    "    def show(self):\n",
    "        print(self.name,self.rollno)\n",
    "        self.lap.show() #here is call of inner class Laptop show method\n",
    "        \n",
    "    #inner class Laptop   \n",
    "    class Laptop:\n",
    "        \n",
    "        def __init__(self):\n",
    "            self.brand = 'HP'\n",
    "            self.cpu ='i5'\n",
    "            self.ram =8\n",
    "\n",
    "        def show(self):\n",
    "            print(self.brand,self.cpu,self.ram)\n",
    "            \n",
    "s1 = Student('Navin',2)\n",
    "s2 = Student('Jenny',3)\n",
    "\n",
    "s1.show()\n",
    "#lap1 = s1.lap()\n",
    "#lap2 = s2.lap()\n",
    "\n",
    "#Creating inner object outside outer class or in diff file we are using outer class Student name\n",
    "lap1 = Student.Laptop()"
   ]
  },
  {
   "cell_type": "code",
   "execution_count": null,
   "metadata": {
    "collapsed": true
   },
   "outputs": [],
   "source": [
    "#Inheritance\n",
    "class A:\n",
    "    def feature1(self):\n",
    "        print(\"Feature1 is working\")\n",
    "    def feature2(self):\n",
    "        print(\"Feature2 is working\")\n",
    "\n",
    "#Inhertance syntax-In python multiple inheritance is also posssible        \n",
    "class B(A):\n",
    "    def feature3(self):\n",
    "        print(\"Feature3 is working\")\n",
    "        \n",
    "b1 = B()\n",
    "b1.feature1()"
   ]
  },
  {
   "cell_type": "code",
   "execution_count": 2,
   "metadata": {
    "collapsed": false
   },
   "outputs": [
    {
     "name": "stdout",
     "output_type": "stream",
     "text": [
      "Init A\n",
      "Init B\n"
     ]
    }
   ],
   "source": [
    "class A:\n",
    "    def __init__(self):\n",
    "        print(\"Init A\")\n",
    "    def feature1(self):\n",
    "        print(\"Feature 1 is working\")\n",
    "\n",
    "class B(A):\n",
    "    def __init__(self):\n",
    "        super().__init__() # calls super class init method\n",
    "        print(\"Init B\")\n",
    "    def feature2(self):\n",
    "        print(\"Feature 2 is working\")\n",
    "a1 = B()    # If init of B is there then it calls that else A     "
   ]
  },
  {
   "cell_type": "code",
   "execution_count": null,
   "metadata": {
    "collapsed": true
   },
   "outputs": [],
   "source": [
    "#Method Resolution Order ,when multiple inheriance is there\n",
    "class A:\n",
    "    def __init__(self):\n",
    "        print(\"Init A\")\n",
    "    def feature1(self):\n",
    "        print(\"Feature 1 is working\")\n",
    "\n",
    "class B:\n",
    "    def __init__(self):\n",
    "        print(\"Init B\")\n",
    "    def feature2(self):\n",
    "        print(\"Feature 2 is working\")\n",
    "        \n",
    "class C(A,B):\n",
    "    def __init__(self):\n",
    "         super().__init__()\n",
    "         print(\"I am in class C\")    \n",
    "c1 = C()    # Here A init is called due to resolution order i.e left side 1st    \n",
    "#by using super we can call super class  method as well"
   ]
  },
  {
   "cell_type": "code",
   "execution_count": 1,
   "metadata": {
    "collapsed": false
   },
   "outputs": [
    {
     "name": "stdout",
     "output_type": "stream",
     "text": [
      "Spell Check\n",
      "Convention Check\n"
     ]
    }
   ],
   "source": [
    "#Ways of implementing POLYMORPHISM are 1.Duck Typing 2.Operator Overloading 3.Method Overloading 4.Method Overriding\n",
    "#Duck Typing\n",
    "\n",
    "class PyCharm:\n",
    "     def execute(self):\n",
    "        print(\"Compiling\")\n",
    "        print(\"Executing\")\n",
    "        \n",
    "class MyEditor:\n",
    "     def execute(self):\n",
    "        print(\"Spell Check\")\n",
    "        print(\"Convention Check\")\n",
    "\n",
    "class Laptop:\n",
    "     def code(self,ide):\n",
    "        ide.execute()\n",
    "        \n",
    "#ide = PyCharm()\n",
    "#Once we change ide class then diff is passed-method execute is there in MyEditor class as well\n",
    "ide = MyEditor()\n",
    "\n",
    "lap1 = Laptop()\n",
    "\n",
    "lap1.code(ide)"
   ]
  },
  {
   "cell_type": "code",
   "execution_count": null,
   "metadata": {
    "collapsed": true
   },
   "outputs": [],
   "source": [
    "a=15\n",
    "b=6\n",
    "print(a+b)\n",
    "#Behind schene below is happening,int,string all are class hence below is actually happening\n",
    "print(int.__add__(a,b)) # __add__ is MAGIC METHOD"
   ]
  },
  {
   "cell_type": "code",
   "execution_count": null,
   "metadata": {
    "collapsed": true
   },
   "outputs": [],
   "source": [
    "#Method Overload\n",
    "class Student:\n",
    "    def __init__(self,m1,m2):\n",
    "        self.m1=m1\n",
    "        self.m2=m2\n",
    "    def __add__(self,other):\n",
    "        m1=self.m1 + other.m1\n",
    "        m2=self.m2 + other.m2\n",
    "        s3=Student(m1,m2)\n",
    "        return s3\n",
    "    def __gt__(self,other):\n",
    "        r1 = self.m1 + other.m1\n",
    "        r2 = self.m2 + other.m2\n",
    "        if r1 > r2:\n",
    "            True\n",
    "        else: False    \n",
    "          \n",
    "s1 = Student(55,66)\n",
    "s2 = Student(45,35)\n",
    "s3 = s1 + s2\n",
    "print(s3.m1)\n",
    "\n",
    "\n",
    "if s1 >s2:\n",
    "    print(\"s1 wins\")\n",
    "else:\n",
    "    print(\"s2 wins\")"
   ]
  },
  {
   "cell_type": "code",
   "execution_count": 1,
   "metadata": {
    "collapsed": false
   },
   "outputs": [
    {
     "name": "stdout",
     "output_type": "stream",
     "text": [
      "['__add__', '__class__', '__contains__', '__delattr__', '__delitem__', '__dir__', '__doc__', '__eq__', '__format__', '__ge__', '__getattribute__', '__getitem__', '__gt__', '__hash__', '__iadd__', '__imul__', '__init__', '__iter__', '__le__', '__len__', '__lt__', '__mul__', '__ne__', '__new__', '__reduce__', '__reduce_ex__', '__repr__', '__reversed__', '__rmul__', '__setattr__', '__setitem__', '__sizeof__', '__str__', '__subclasshook__', 'append', 'clear', 'copy', 'count', 'extend', 'index', 'insert', 'pop', 'remove', 'reverse', 'sort']\n"
     ]
    }
   ],
   "source": [
    "'''Iterator-Any collection that has __iter__ method is iterable and f it has __next__ then its iterator.Iterator can keep\n",
    "the state but iterable cannot'''\n",
    "nums =[1,2,3]\n",
    "#Below method returns all the dunder/magic methods that can be called on list type\n",
    "print(dir(nums))"
   ]
  },
  {
   "cell_type": "code",
   "execution_count": 4,
   "metadata": {
    "collapsed": false
   },
   "outputs": [
    {
     "name": "stdout",
     "output_type": "stream",
     "text": [
      "['__class__', '__delattr__', '__dir__', '__doc__', '__eq__', '__format__', '__ge__', '__getattribute__', '__gt__', '__hash__', '__init__', '__iter__', '__le__', '__length_hint__', '__lt__', '__ne__', '__new__', '__next__', '__reduce__', '__reduce_ex__', '__repr__', '__setattr__', '__setstate__', '__sizeof__', '__str__', '__subclasshook__']\n",
      "1\n",
      "2\n",
      "3\n"
     ]
    }
   ],
   "source": [
    "i_nums = iter(nums)\n",
    "#Notice this has dunder method next as this is an iterator\n",
    "print(dir(i_nums))\n",
    "#as this is iterator hence remebers next value\n",
    "print(next(i_nums)) #prints next value i.e 1\n",
    "print(next(i_nums)) \n",
    "print(next(i_nums))\n",
    "#iterators cannot go backward or cannot be reset"
   ]
  },
  {
   "cell_type": "code",
   "execution_count": 1,
   "metadata": {
    "collapsed": false,
    "scrolled": true
   },
   "outputs": [
    {
     "name": "stdout",
     "output_type": "stream",
     "text": [
      "1\n",
      "2\n",
      "3\n",
      "4\n",
      "5\n",
      "6\n",
      "7\n",
      "8\n",
      "9\n"
     ]
    }
   ],
   "source": [
    "class MyRange:\n",
    "    def __init__(self,start,end):\n",
    "        self.value =start\n",
    "        self.end = end\n",
    "        \n",
    "    def __iter__(self):\n",
    "        return self\n",
    "    \n",
    "    def __next__(self):\n",
    "        if self.value >=self.end:\n",
    "            raise StopIteration\n",
    "        current = self.value\n",
    "        self.value += 1\n",
    "        return current\n",
    "#nums is both iterator and iterable \n",
    "nums = MyRange( 1 , 10)\n",
    "\n",
    "for num in nums:\n",
    "    print(num)\n"
   ]
  },
  {
   "cell_type": "code",
   "execution_count": 2,
   "metadata": {
    "collapsed": false
   },
   "outputs": [
    {
     "name": "stdout",
     "output_type": "stream",
     "text": [
      "I can walk and run\n",
      "I can crawl\n",
      "I can bark\n",
      "I can roar\n",
      "Abstract Base Class\n",
      "subclass \n"
     ]
    }
   ],
   "source": [
    "#Abstract Method using abstractmethod decorator\n",
    "#Abstract classes are incomplete because they have methods which have no body.\n",
    "#an abstract class is not a concrete class, it cannot be instantiated. \n",
    "from abc import ABC, abstractmethod \n",
    "class Animal(ABC): \n",
    "  \n",
    "    def move(self): \n",
    "        pass\n",
    "  \n",
    "class Human(Animal): \n",
    "  \n",
    "    def move(self): \n",
    "        print(\"I can walk and run\") \n",
    "  \n",
    "class Snake(Animal): \n",
    "  \n",
    "    def move(self): \n",
    "        print(\"I can crawl\") \n",
    "  \n",
    "class Dog(Animal): \n",
    "  \n",
    "    def move(self): \n",
    "        print(\"I can bark\") \n",
    "  \n",
    "class Lion(Animal): \n",
    "  \n",
    "    def move(self): \n",
    "        print(\"I can roar\") \n",
    "          \n",
    "# Driver code \n",
    "R = Human() \n",
    "R.move() \n",
    "  \n",
    "K = Snake() \n",
    "K.move() \n",
    "  \n",
    "R = Dog() \n",
    "R.move() \n",
    "  \n",
    "K = Lion() \n",
    "K.move() \n",
    "\n",
    "'''Concrete classes contain only concrete (normal)methods whereas abstract class contains both concrete methods as well \n",
    "as abstract methods. Concrete class provide an implementation of abstract methods, the abstract base class can also \n",
    "provide an implementation by invoking the methods via super().'''\n",
    "\n",
    "import abc \n",
    "from abc import ABC, abstractmethod \n",
    "  \n",
    "class R(ABC): \n",
    "    def rk(self): \n",
    "        print(\"Abstract Base Class\") \n",
    "  \n",
    "class K(R): \n",
    "    def rk(self): \n",
    "        super().rk() \n",
    "        print(\"subclass \") \n",
    "  \n",
    "# Driver code \n",
    "r = K() \n",
    "r.rk() "
   ]
  },
  {
   "cell_type": "code",
   "execution_count": 3,
   "metadata": {
    "collapsed": false
   },
   "outputs": [
    {
     "name": "stdout",
     "output_type": "stream",
     "text": [
      "22\n",
      "23\n"
     ]
    },
    {
     "ename": "AttributeError",
     "evalue": "'Robot' object has no attribute '__version'",
     "output_type": "error",
     "traceback": [
      "\u001b[0;31m---------------------------------------------------------------------------\u001b[0m",
      "\u001b[0;31mAttributeError\u001b[0m                            Traceback (most recent call last)",
      "\u001b[0;32m<ipython-input-3-83ca1706de8e>\u001b[0m in \u001b[0;36m<module>\u001b[0;34m()\u001b[0m\n\u001b[1;32m     14\u001b[0m \u001b[0mobj\u001b[0m\u001b[0;34m.\u001b[0m\u001b[0msetVersion\u001b[0m\u001b[0;34m(\u001b[0m\u001b[0;36m23\u001b[0m\u001b[0;34m)\u001b[0m\u001b[0;34m\u001b[0m\u001b[0m\n\u001b[1;32m     15\u001b[0m \u001b[0mobj\u001b[0m\u001b[0;34m.\u001b[0m\u001b[0mgetVersion\u001b[0m\u001b[0;34m(\u001b[0m\u001b[0;34m)\u001b[0m\u001b[0;34m\u001b[0m\u001b[0m\n\u001b[0;32m---> 16\u001b[0;31m \u001b[0mprint\u001b[0m\u001b[0;34m(\u001b[0m\u001b[0mobj\u001b[0m\u001b[0;34m.\u001b[0m\u001b[0m__version\u001b[0m\u001b[0;34m)\u001b[0m\u001b[0;34m\u001b[0m\u001b[0m\n\u001b[0m",
      "\u001b[0;31mAttributeError\u001b[0m: 'Robot' object has no attribute '__version'"
     ]
    }
   ],
   "source": [
    "#Encapsulation\n",
    "class Robot(object):\n",
    "   def __init__(self):\n",
    "      self.__version = 22\n",
    "\n",
    "   def getVersion(self):\n",
    "      print(self.__version)\n",
    "\n",
    "   def setVersion(self, version):\n",
    "      self.__version = version\n",
    "\n",
    "obj = Robot()\n",
    "obj.getVersion()\n",
    "obj.setVersion(23)\n",
    "obj.getVersion()\n",
    "print(obj.__version) #Not accessible outside hence error"
   ]
  },
  {
   "cell_type": "code",
   "execution_count": 4,
   "metadata": {
    "collapsed": false
   },
   "outputs": [
    {
     "name": "stdout",
     "output_type": "stream",
     "text": [
      "Total: 1210\n"
     ]
    }
   ],
   "source": [
    "'''Composition and aggregation are specialised form of Association. Whereas Association is a relationship between \n",
    "   two classes without any rules.'''\n",
    "\n",
    "'''1.Composition:In compostion one of the classes is composed of one or more instance of other classes. In other words one \n",
    "              class is container and other class is content and if you delete the container object then all of its \n",
    "              contents objects are also deleted.'''\n",
    "#Class Employee is container and class Salary is content. \n",
    "class Salary:\n",
    "    def __init__(self,pay):\n",
    "        self.pay=pay\n",
    "\n",
    "    def get_total(self):\n",
    "       return (self.pay*12)\n",
    "\n",
    "class Employee:\n",
    "    def __init__(self,pay,bonus):\n",
    "        self.pay=pay\n",
    "        self.bonus=bonus\n",
    "        self.obj_salary=Salary(self.pay)\n",
    "\n",
    "    def annual_salary(self):\n",
    "        return \"Total: \"  +  str(self.obj_salary.get_total()+self.bonus)\n",
    "\n",
    "\n",
    "obj_emp=Employee(100,10)\n",
    "print (obj_emp.annual_salary())"
   ]
  },
  {
   "cell_type": "code",
   "execution_count": 5,
   "metadata": {
    "collapsed": false
   },
   "outputs": [
    {
     "name": "stdout",
     "output_type": "stream",
     "text": [
      "Total: 1210\n"
     ]
    }
   ],
   "source": [
    "'''Aggregation:\n",
    "Aggregation is a week form of compostion. If you delete the container object contents objects can live without container\n",
    "object.\n",
    "'''\n",
    "class Salary:\n",
    "    def __init__(self,pay):\n",
    "        self.pay=pay\n",
    "\n",
    "    def get_total(self):\n",
    "       return (self.pay*12)\n",
    "\n",
    "class Employee:\n",
    "    def __init__(self,pay,bonus):\n",
    "        self.pay=pay\n",
    "        self.bonus=bonus\n",
    "\n",
    "    def annual_salary(self):\n",
    "        return \"Total: \"  +  str(self.pay.get_total()+self.bonus)\n",
    "\n",
    "\n",
    "obj_sal=Salary(100)\n",
    "obj_emp=Employee(obj_sal,10)\n",
    "print (obj_emp.annual_salary())"
   ]
  },
  {
   "cell_type": "code",
   "execution_count": null,
   "metadata": {
    "collapsed": true
   },
   "outputs": [],
   "source": [
    "#debugging\n",
    "https://stackoverflow.com/questions/4929251/how-to-step-through-python-code-to-help-debug-issues"
   ]
  }
 ],
 "metadata": {
  "anaconda-cloud": {},
  "kernelspec": {
   "display_name": "Python [default]",
   "language": "python",
   "name": "python3"
  },
  "language_info": {
   "codemirror_mode": {
    "name": "ipython",
    "version": 3
   },
   "file_extension": ".py",
   "mimetype": "text/x-python",
   "name": "python",
   "nbconvert_exporter": "python",
   "pygments_lexer": "ipython3",
   "version": "3.5.4"
  }
 },
 "nbformat": 4,
 "nbformat_minor": 2
}
